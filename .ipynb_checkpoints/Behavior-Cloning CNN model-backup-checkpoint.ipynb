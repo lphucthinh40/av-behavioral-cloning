{
 "cells": [
  {
   "cell_type": "code",
   "execution_count": 4,
   "metadata": {},
   "outputs": [
    {
     "ename": "ImportError",
     "evalue": "cannot import name 'layers'",
     "output_type": "error",
     "traceback": [
      "\u001b[0;31m---------------------------------------------------------------------------\u001b[0m",
      "\u001b[0;31mImportError\u001b[0m                               Traceback (most recent call last)",
      "\u001b[0;32m<ipython-input-4-51c7f9022f81>\u001b[0m in \u001b[0;36m<module>\u001b[0;34m\u001b[0m\n\u001b[1;32m      5\u001b[0m \u001b[0;32mimport\u001b[0m \u001b[0mcv2\u001b[0m\u001b[0;34m\u001b[0m\u001b[0;34m\u001b[0m\u001b[0m\n\u001b[1;32m      6\u001b[0m \u001b[0;32mimport\u001b[0m \u001b[0mtensorflow\u001b[0m \u001b[0;32mas\u001b[0m \u001b[0mtf\u001b[0m\u001b[0;34m\u001b[0m\u001b[0;34m\u001b[0m\u001b[0m\n\u001b[0;32m----> 7\u001b[0;31m \u001b[0;32mfrom\u001b[0m \u001b[0mtensorflow\u001b[0m\u001b[0;34m.\u001b[0m\u001b[0mkeras\u001b[0m \u001b[0;32mimport\u001b[0m \u001b[0mlayers\u001b[0m\u001b[0;34m,\u001b[0m \u001b[0mmodels\u001b[0m\u001b[0;34m,\u001b[0m \u001b[0mregularizers\u001b[0m\u001b[0;34m\u001b[0m\u001b[0;34m\u001b[0m\u001b[0m\n\u001b[0m\u001b[1;32m      8\u001b[0m \u001b[0;32mfrom\u001b[0m \u001b[0msklearn\u001b[0m\u001b[0;34m.\u001b[0m\u001b[0mmodel_selection\u001b[0m \u001b[0;32mimport\u001b[0m \u001b[0mtrain_test_split\u001b[0m\u001b[0;34m\u001b[0m\u001b[0;34m\u001b[0m\u001b[0m\n\u001b[1;32m      9\u001b[0m \u001b[0mget_ipython\u001b[0m\u001b[0;34m(\u001b[0m\u001b[0;34m)\u001b[0m\u001b[0;34m.\u001b[0m\u001b[0mrun_line_magic\u001b[0m\u001b[0;34m(\u001b[0m\u001b[0;34m'matplotlib'\u001b[0m\u001b[0;34m,\u001b[0m \u001b[0;34m'inline'\u001b[0m\u001b[0;34m)\u001b[0m\u001b[0;34m\u001b[0m\u001b[0;34m\u001b[0m\u001b[0m\n",
      "\u001b[0;31mImportError\u001b[0m: cannot import name 'layers'"
     ]
    }
   ],
   "source": [
    "import os\n",
    "import numpy as np\n",
    "import pandas as pd\n",
    "import matplotlib.pyplot as plt\n",
    "import cv2\n",
    "import tensorflow as tf\n",
    "from tensorflow.keras import datasets, layers, models, regularizers\n",
    "from sklearn.model_selection import train_test_split\n",
    "%matplotlib inline"
   ]
  },
  {
   "cell_type": "code",
   "execution_count": 358,
   "metadata": {},
   "outputs": [],
   "source": [
    "df = pd.read_csv('./data/driving_log.csv')"
   ]
  },
  {
   "cell_type": "code",
   "execution_count": 359,
   "metadata": {},
   "outputs": [],
   "source": [
    "left_df = pd.DataFrame(df[['left', 'steering']])"
   ]
  },
  {
   "cell_type": "code",
   "execution_count": 360,
   "metadata": {},
   "outputs": [],
   "source": [
    "left_df['steering'] = left_df['steering'] + 0.2"
   ]
  },
  {
   "cell_type": "code",
   "execution_count": 363,
   "metadata": {},
   "outputs": [
    {
     "data": {
      "text/plain": [
       "array([' IMG/left_2016_12_01_13_30_48_287.jpg',\n",
       "       ' IMG/left_2016_12_01_13_30_48_404.jpg',\n",
       "       ' IMG/left_2016_12_01_13_31_12_937.jpg', ...,\n",
       "       ' IMG/left_2016_12_01_13_46_38_846.jpg',\n",
       "       ' IMG/left_2016_12_01_13_46_38_922.jpg',\n",
       "       ' IMG/left_2016_12_01_13_46_38_947.jpg'], dtype=object)"
      ]
     },
     "execution_count": 363,
     "metadata": {},
     "output_type": "execute_result"
    }
   ],
   "source": [
    "left_df['left'].values"
   ]
  },
  {
   "cell_type": "code",
   "execution_count": 321,
   "metadata": {},
   "outputs": [
    {
     "data": {
      "text/plain": [
       "array([0.0, 0.0, 0.0, 0.0, 0.0], dtype=object)"
      ]
     },
     "execution_count": 321,
     "metadata": {},
     "output_type": "execute_result"
    }
   ],
   "source": [
    "left = df_mini[['left', 'steering']].values\n",
    "left[:, 1]"
   ]
  },
  {
   "cell_type": "code",
   "execution_count": 318,
   "metadata": {},
   "outputs": [
    {
     "name": "stderr",
     "output_type": "stream",
     "text": [
      "/home/thinh/.virtualenvs/cv4/lib/python3.6/site-packages/ipykernel_launcher.py:1: SettingWithCopyWarning: \n",
      "A value is trying to be set on a copy of a slice from a DataFrame.\n",
      "Try using .loc[row_indexer,col_indexer] = value instead\n",
      "\n",
      "See the caveats in the documentation: http://pandas.pydata.org/pandas-docs/stable/user_guide/indexing.html#returning-a-view-versus-a-copy\n",
      "  \"\"\"Entry point for launching an IPython kernel.\n"
     ]
    }
   ],
   "source": [
    "left['left'] = left['left'].str.lstrip()"
   ]
  },
  {
   "cell_type": "code",
   "execution_count": 364,
   "metadata": {},
   "outputs": [],
   "source": [
    "df = pd.read_csv('./data/driving_log.csv')\n",
    "df['left'] = df['left'].str.lstrip()\n",
    "df['right'] = df['right'].str.lstrip()"
   ]
  },
  {
   "cell_type": "code",
   "execution_count": 366,
   "metadata": {},
   "outputs": [],
   "source": [
    "df_left = df[['left', 'steering']].copy()"
   ]
  },
  {
   "cell_type": "code",
   "execution_count": 368,
   "metadata": {},
   "outputs": [],
   "source": [
    "df_left['steering'] = df_left['steering'] + 0.2"
   ]
  },
  {
   "cell_type": "code",
   "execution_count": 375,
   "metadata": {},
   "outputs": [],
   "source": [
    "# df_left.rename(columns = {'left':'filename'}, inplace = True)\n",
    "df_right.rename(columns = {'right':'filename'}, inplace = True)"
   ]
  },
  {
   "cell_type": "code",
   "execution_count": 376,
   "metadata": {},
   "outputs": [
    {
     "data": {
      "text/html": [
       "<div>\n",
       "<style scoped>\n",
       "    .dataframe tbody tr th:only-of-type {\n",
       "        vertical-align: middle;\n",
       "    }\n",
       "\n",
       "    .dataframe tbody tr th {\n",
       "        vertical-align: top;\n",
       "    }\n",
       "\n",
       "    .dataframe thead th {\n",
       "        text-align: right;\n",
       "    }\n",
       "</style>\n",
       "<table border=\"1\" class=\"dataframe\">\n",
       "  <thead>\n",
       "    <tr style=\"text-align: right;\">\n",
       "      <th></th>\n",
       "      <th>filename</th>\n",
       "      <th>steering</th>\n",
       "    </tr>\n",
       "  </thead>\n",
       "  <tbody>\n",
       "    <tr>\n",
       "      <th>0</th>\n",
       "      <td>IMG/right_2016_12_01_13_30_48_287.jpg</td>\n",
       "      <td>-0.2</td>\n",
       "    </tr>\n",
       "    <tr>\n",
       "      <th>1</th>\n",
       "      <td>IMG/right_2016_12_01_13_30_48_404.jpg</td>\n",
       "      <td>-0.2</td>\n",
       "    </tr>\n",
       "    <tr>\n",
       "      <th>2</th>\n",
       "      <td>IMG/right_2016_12_01_13_31_12_937.jpg</td>\n",
       "      <td>-0.2</td>\n",
       "    </tr>\n",
       "    <tr>\n",
       "      <th>3</th>\n",
       "      <td>IMG/right_2016_12_01_13_31_13_037.jpg</td>\n",
       "      <td>-0.2</td>\n",
       "    </tr>\n",
       "    <tr>\n",
       "      <th>4</th>\n",
       "      <td>IMG/right_2016_12_01_13_31_13_177.jpg</td>\n",
       "      <td>-0.2</td>\n",
       "    </tr>\n",
       "    <tr>\n",
       "      <th>...</th>\n",
       "      <td>...</td>\n",
       "      <td>...</td>\n",
       "    </tr>\n",
       "    <tr>\n",
       "      <th>8031</th>\n",
       "      <td>IMG/right_2016_12_01_13_46_38_745.jpg</td>\n",
       "      <td>-0.2</td>\n",
       "    </tr>\n",
       "    <tr>\n",
       "      <th>8032</th>\n",
       "      <td>IMG/right_2016_12_01_13_46_38_802.jpg</td>\n",
       "      <td>-0.2</td>\n",
       "    </tr>\n",
       "    <tr>\n",
       "      <th>8033</th>\n",
       "      <td>IMG/right_2016_12_01_13_46_38_846.jpg</td>\n",
       "      <td>-0.2</td>\n",
       "    </tr>\n",
       "    <tr>\n",
       "      <th>8034</th>\n",
       "      <td>IMG/right_2016_12_01_13_46_38_922.jpg</td>\n",
       "      <td>-0.2</td>\n",
       "    </tr>\n",
       "    <tr>\n",
       "      <th>8035</th>\n",
       "      <td>IMG/right_2016_12_01_13_46_38_947.jpg</td>\n",
       "      <td>-0.2</td>\n",
       "    </tr>\n",
       "  </tbody>\n",
       "</table>\n",
       "<p>8036 rows × 2 columns</p>\n",
       "</div>"
      ],
      "text/plain": [
       "                                   filename  steering\n",
       "0     IMG/right_2016_12_01_13_30_48_287.jpg      -0.2\n",
       "1     IMG/right_2016_12_01_13_30_48_404.jpg      -0.2\n",
       "2     IMG/right_2016_12_01_13_31_12_937.jpg      -0.2\n",
       "3     IMG/right_2016_12_01_13_31_13_037.jpg      -0.2\n",
       "4     IMG/right_2016_12_01_13_31_13_177.jpg      -0.2\n",
       "...                                     ...       ...\n",
       "8031  IMG/right_2016_12_01_13_46_38_745.jpg      -0.2\n",
       "8032  IMG/right_2016_12_01_13_46_38_802.jpg      -0.2\n",
       "8033  IMG/right_2016_12_01_13_46_38_846.jpg      -0.2\n",
       "8034  IMG/right_2016_12_01_13_46_38_922.jpg      -0.2\n",
       "8035  IMG/right_2016_12_01_13_46_38_947.jpg      -0.2\n",
       "\n",
       "[8036 rows x 2 columns]"
      ]
     },
     "execution_count": 376,
     "metadata": {},
     "output_type": "execute_result"
    }
   ],
   "source": [
    "df_right"
   ]
  },
  {
   "cell_type": "code",
   "execution_count": 369,
   "metadata": {},
   "outputs": [],
   "source": [
    "df_right = df[['right', 'steering']].copy()\n",
    "df_right['steering'] = df_right['steering'] - 0.2"
   ]
  },
  {
   "cell_type": "code",
   "execution_count": 379,
   "metadata": {},
   "outputs": [
    {
     "data": {
      "text/html": [
       "<div>\n",
       "<style scoped>\n",
       "    .dataframe tbody tr th:only-of-type {\n",
       "        vertical-align: middle;\n",
       "    }\n",
       "\n",
       "    .dataframe tbody tr th {\n",
       "        vertical-align: top;\n",
       "    }\n",
       "\n",
       "    .dataframe thead th {\n",
       "        text-align: right;\n",
       "    }\n",
       "</style>\n",
       "<table border=\"1\" class=\"dataframe\">\n",
       "  <thead>\n",
       "    <tr style=\"text-align: right;\">\n",
       "      <th></th>\n",
       "      <th>filename</th>\n",
       "      <th>steering</th>\n",
       "    </tr>\n",
       "  </thead>\n",
       "  <tbody>\n",
       "    <tr>\n",
       "      <th>0</th>\n",
       "      <td>IMG/left_2016_12_01_13_30_48_287.jpg</td>\n",
       "      <td>0.2</td>\n",
       "    </tr>\n",
       "    <tr>\n",
       "      <th>1</th>\n",
       "      <td>IMG/left_2016_12_01_13_30_48_404.jpg</td>\n",
       "      <td>0.2</td>\n",
       "    </tr>\n",
       "    <tr>\n",
       "      <th>2</th>\n",
       "      <td>IMG/left_2016_12_01_13_31_12_937.jpg</td>\n",
       "      <td>0.2</td>\n",
       "    </tr>\n",
       "    <tr>\n",
       "      <th>3</th>\n",
       "      <td>IMG/left_2016_12_01_13_31_13_037.jpg</td>\n",
       "      <td>0.2</td>\n",
       "    </tr>\n",
       "    <tr>\n",
       "      <th>4</th>\n",
       "      <td>IMG/left_2016_12_01_13_31_13_177.jpg</td>\n",
       "      <td>0.2</td>\n",
       "    </tr>\n",
       "    <tr>\n",
       "      <th>...</th>\n",
       "      <td>...</td>\n",
       "      <td>...</td>\n",
       "    </tr>\n",
       "    <tr>\n",
       "      <th>8031</th>\n",
       "      <td>IMG/left_2016_12_01_13_46_38_745.jpg</td>\n",
       "      <td>0.2</td>\n",
       "    </tr>\n",
       "    <tr>\n",
       "      <th>8032</th>\n",
       "      <td>IMG/left_2016_12_01_13_46_38_802.jpg</td>\n",
       "      <td>0.2</td>\n",
       "    </tr>\n",
       "    <tr>\n",
       "      <th>8033</th>\n",
       "      <td>IMG/left_2016_12_01_13_46_38_846.jpg</td>\n",
       "      <td>0.2</td>\n",
       "    </tr>\n",
       "    <tr>\n",
       "      <th>8034</th>\n",
       "      <td>IMG/left_2016_12_01_13_46_38_922.jpg</td>\n",
       "      <td>0.2</td>\n",
       "    </tr>\n",
       "    <tr>\n",
       "      <th>8035</th>\n",
       "      <td>IMG/left_2016_12_01_13_46_38_947.jpg</td>\n",
       "      <td>0.2</td>\n",
       "    </tr>\n",
       "  </tbody>\n",
       "</table>\n",
       "<p>8036 rows × 2 columns</p>\n",
       "</div>"
      ],
      "text/plain": [
       "                                  filename  steering\n",
       "0     IMG/left_2016_12_01_13_30_48_287.jpg       0.2\n",
       "1     IMG/left_2016_12_01_13_30_48_404.jpg       0.2\n",
       "2     IMG/left_2016_12_01_13_31_12_937.jpg       0.2\n",
       "3     IMG/left_2016_12_01_13_31_13_037.jpg       0.2\n",
       "4     IMG/left_2016_12_01_13_31_13_177.jpg       0.2\n",
       "...                                    ...       ...\n",
       "8031  IMG/left_2016_12_01_13_46_38_745.jpg       0.2\n",
       "8032  IMG/left_2016_12_01_13_46_38_802.jpg       0.2\n",
       "8033  IMG/left_2016_12_01_13_46_38_846.jpg       0.2\n",
       "8034  IMG/left_2016_12_01_13_46_38_922.jpg       0.2\n",
       "8035  IMG/left_2016_12_01_13_46_38_947.jpg       0.2\n",
       "\n",
       "[8036 rows x 2 columns]"
      ]
     },
     "execution_count": 379,
     "metadata": {},
     "output_type": "execute_result"
    }
   ],
   "source": [
    "new_df = pd.DataFrame()\n",
    "new_df.append(df_left, ignore_index=True)"
   ]
  },
  {
   "cell_type": "code",
   "execution_count": 380,
   "metadata": {},
   "outputs": [
    {
     "data": {
      "text/html": [
       "<div>\n",
       "<style scoped>\n",
       "    .dataframe tbody tr th:only-of-type {\n",
       "        vertical-align: middle;\n",
       "    }\n",
       "\n",
       "    .dataframe tbody tr th {\n",
       "        vertical-align: top;\n",
       "    }\n",
       "\n",
       "    .dataframe thead th {\n",
       "        text-align: right;\n",
       "    }\n",
       "</style>\n",
       "<table border=\"1\" class=\"dataframe\">\n",
       "  <thead>\n",
       "    <tr style=\"text-align: right;\">\n",
       "      <th></th>\n",
       "      <th>filename</th>\n",
       "      <th>steering</th>\n",
       "    </tr>\n",
       "  </thead>\n",
       "  <tbody>\n",
       "    <tr>\n",
       "      <th>0</th>\n",
       "      <td>IMG/right_2016_12_01_13_30_48_287.jpg</td>\n",
       "      <td>-0.2</td>\n",
       "    </tr>\n",
       "    <tr>\n",
       "      <th>1</th>\n",
       "      <td>IMG/right_2016_12_01_13_30_48_404.jpg</td>\n",
       "      <td>-0.2</td>\n",
       "    </tr>\n",
       "    <tr>\n",
       "      <th>2</th>\n",
       "      <td>IMG/right_2016_12_01_13_31_12_937.jpg</td>\n",
       "      <td>-0.2</td>\n",
       "    </tr>\n",
       "    <tr>\n",
       "      <th>3</th>\n",
       "      <td>IMG/right_2016_12_01_13_31_13_037.jpg</td>\n",
       "      <td>-0.2</td>\n",
       "    </tr>\n",
       "    <tr>\n",
       "      <th>4</th>\n",
       "      <td>IMG/right_2016_12_01_13_31_13_177.jpg</td>\n",
       "      <td>-0.2</td>\n",
       "    </tr>\n",
       "    <tr>\n",
       "      <th>...</th>\n",
       "      <td>...</td>\n",
       "      <td>...</td>\n",
       "    </tr>\n",
       "    <tr>\n",
       "      <th>8031</th>\n",
       "      <td>IMG/right_2016_12_01_13_46_38_745.jpg</td>\n",
       "      <td>-0.2</td>\n",
       "    </tr>\n",
       "    <tr>\n",
       "      <th>8032</th>\n",
       "      <td>IMG/right_2016_12_01_13_46_38_802.jpg</td>\n",
       "      <td>-0.2</td>\n",
       "    </tr>\n",
       "    <tr>\n",
       "      <th>8033</th>\n",
       "      <td>IMG/right_2016_12_01_13_46_38_846.jpg</td>\n",
       "      <td>-0.2</td>\n",
       "    </tr>\n",
       "    <tr>\n",
       "      <th>8034</th>\n",
       "      <td>IMG/right_2016_12_01_13_46_38_922.jpg</td>\n",
       "      <td>-0.2</td>\n",
       "    </tr>\n",
       "    <tr>\n",
       "      <th>8035</th>\n",
       "      <td>IMG/right_2016_12_01_13_46_38_947.jpg</td>\n",
       "      <td>-0.2</td>\n",
       "    </tr>\n",
       "  </tbody>\n",
       "</table>\n",
       "<p>8036 rows × 2 columns</p>\n",
       "</div>"
      ],
      "text/plain": [
       "                                   filename  steering\n",
       "0     IMG/right_2016_12_01_13_30_48_287.jpg      -0.2\n",
       "1     IMG/right_2016_12_01_13_30_48_404.jpg      -0.2\n",
       "2     IMG/right_2016_12_01_13_31_12_937.jpg      -0.2\n",
       "3     IMG/right_2016_12_01_13_31_13_037.jpg      -0.2\n",
       "4     IMG/right_2016_12_01_13_31_13_177.jpg      -0.2\n",
       "...                                     ...       ...\n",
       "8031  IMG/right_2016_12_01_13_46_38_745.jpg      -0.2\n",
       "8032  IMG/right_2016_12_01_13_46_38_802.jpg      -0.2\n",
       "8033  IMG/right_2016_12_01_13_46_38_846.jpg      -0.2\n",
       "8034  IMG/right_2016_12_01_13_46_38_922.jpg      -0.2\n",
       "8035  IMG/right_2016_12_01_13_46_38_947.jpg      -0.2\n",
       "\n",
       "[8036 rows x 2 columns]"
      ]
     },
     "execution_count": 380,
     "metadata": {},
     "output_type": "execute_result"
    }
   ],
   "source": [
    "new_df.append(df_right, ignore_index=True)"
   ]
  },
  {
   "cell_type": "code",
   "execution_count": 383,
   "metadata": {},
   "outputs": [
    {
     "data": {
      "text/html": [
       "<div>\n",
       "<style scoped>\n",
       "    .dataframe tbody tr th:only-of-type {\n",
       "        vertical-align: middle;\n",
       "    }\n",
       "\n",
       "    .dataframe tbody tr th {\n",
       "        vertical-align: top;\n",
       "    }\n",
       "\n",
       "    .dataframe thead th {\n",
       "        text-align: right;\n",
       "    }\n",
       "</style>\n",
       "<table border=\"1\" class=\"dataframe\">\n",
       "  <thead>\n",
       "    <tr style=\"text-align: right;\">\n",
       "      <th></th>\n",
       "      <th>filename</th>\n",
       "      <th>steering</th>\n",
       "    </tr>\n",
       "  </thead>\n",
       "  <tbody>\n",
       "    <tr>\n",
       "      <th>0</th>\n",
       "      <td>IMG/left_2016_12_01_13_30_48_287.jpg</td>\n",
       "      <td>0.2</td>\n",
       "    </tr>\n",
       "    <tr>\n",
       "      <th>1</th>\n",
       "      <td>IMG/left_2016_12_01_13_30_48_404.jpg</td>\n",
       "      <td>0.2</td>\n",
       "    </tr>\n",
       "    <tr>\n",
       "      <th>2</th>\n",
       "      <td>IMG/left_2016_12_01_13_31_12_937.jpg</td>\n",
       "      <td>0.2</td>\n",
       "    </tr>\n",
       "    <tr>\n",
       "      <th>3</th>\n",
       "      <td>IMG/left_2016_12_01_13_31_13_037.jpg</td>\n",
       "      <td>0.2</td>\n",
       "    </tr>\n",
       "    <tr>\n",
       "      <th>4</th>\n",
       "      <td>IMG/left_2016_12_01_13_31_13_177.jpg</td>\n",
       "      <td>0.2</td>\n",
       "    </tr>\n",
       "    <tr>\n",
       "      <th>...</th>\n",
       "      <td>...</td>\n",
       "      <td>...</td>\n",
       "    </tr>\n",
       "    <tr>\n",
       "      <th>16067</th>\n",
       "      <td>IMG/right_2016_12_01_13_46_38_745.jpg</td>\n",
       "      <td>-0.2</td>\n",
       "    </tr>\n",
       "    <tr>\n",
       "      <th>16068</th>\n",
       "      <td>IMG/right_2016_12_01_13_46_38_802.jpg</td>\n",
       "      <td>-0.2</td>\n",
       "    </tr>\n",
       "    <tr>\n",
       "      <th>16069</th>\n",
       "      <td>IMG/right_2016_12_01_13_46_38_846.jpg</td>\n",
       "      <td>-0.2</td>\n",
       "    </tr>\n",
       "    <tr>\n",
       "      <th>16070</th>\n",
       "      <td>IMG/right_2016_12_01_13_46_38_922.jpg</td>\n",
       "      <td>-0.2</td>\n",
       "    </tr>\n",
       "    <tr>\n",
       "      <th>16071</th>\n",
       "      <td>IMG/right_2016_12_01_13_46_38_947.jpg</td>\n",
       "      <td>-0.2</td>\n",
       "    </tr>\n",
       "  </tbody>\n",
       "</table>\n",
       "<p>16072 rows × 2 columns</p>\n",
       "</div>"
      ],
      "text/plain": [
       "                                    filename  steering\n",
       "0       IMG/left_2016_12_01_13_30_48_287.jpg       0.2\n",
       "1       IMG/left_2016_12_01_13_30_48_404.jpg       0.2\n",
       "2       IMG/left_2016_12_01_13_31_12_937.jpg       0.2\n",
       "3       IMG/left_2016_12_01_13_31_13_037.jpg       0.2\n",
       "4       IMG/left_2016_12_01_13_31_13_177.jpg       0.2\n",
       "...                                      ...       ...\n",
       "16067  IMG/right_2016_12_01_13_46_38_745.jpg      -0.2\n",
       "16068  IMG/right_2016_12_01_13_46_38_802.jpg      -0.2\n",
       "16069  IMG/right_2016_12_01_13_46_38_846.jpg      -0.2\n",
       "16070  IMG/right_2016_12_01_13_46_38_922.jpg      -0.2\n",
       "16071  IMG/right_2016_12_01_13_46_38_947.jpg      -0.2\n",
       "\n",
       "[16072 rows x 2 columns]"
      ]
     },
     "execution_count": 383,
     "metadata": {},
     "output_type": "execute_result"
    }
   ],
   "source": [
    "pd.concat([df_left, df_right], ignore_index=True)"
   ]
  },
  {
   "cell_type": "code",
   "execution_count": 535,
   "metadata": {},
   "outputs": [],
   "source": [
    "df = pd.read_csv('./data/driving_log.csv')\n",
    "\n",
    "steering_offset = [0., 0.2, -0.2]\n",
    "camera = ['center', 'left', 'right']\n",
    "full_df = pd.DataFrame()\n",
    "for i in range(3):\n",
    "    temp_df = df[[camera[i], 'steering']].copy()\n",
    "    temp_df['steering'] = temp_df['steering'] + steering_offset[i]\n",
    "    temp_df.rename(columns = {camera[i]:'filename'}, inplace = True)\n",
    "    full_df = full_df.append(temp_df, ignore_index=True, sort=False)\n",
    "full_df['filename'] = full_df['filename'].str.lstrip()"
   ]
  },
  {
   "cell_type": "code",
   "execution_count": 536,
   "metadata": {},
   "outputs": [
    {
     "data": {
      "text/html": [
       "<div>\n",
       "<style scoped>\n",
       "    .dataframe tbody tr th:only-of-type {\n",
       "        vertical-align: middle;\n",
       "    }\n",
       "\n",
       "    .dataframe tbody tr th {\n",
       "        vertical-align: top;\n",
       "    }\n",
       "\n",
       "    .dataframe thead th {\n",
       "        text-align: right;\n",
       "    }\n",
       "</style>\n",
       "<table border=\"1\" class=\"dataframe\">\n",
       "  <thead>\n",
       "    <tr style=\"text-align: right;\">\n",
       "      <th></th>\n",
       "      <th>filename</th>\n",
       "      <th>steering</th>\n",
       "    </tr>\n",
       "  </thead>\n",
       "  <tbody>\n",
       "    <tr>\n",
       "      <th>0</th>\n",
       "      <td>IMG/center_2016_12_01_13_30_48_287.jpg</td>\n",
       "      <td>0.0</td>\n",
       "    </tr>\n",
       "    <tr>\n",
       "      <th>1</th>\n",
       "      <td>IMG/center_2016_12_01_13_30_48_404.jpg</td>\n",
       "      <td>0.0</td>\n",
       "    </tr>\n",
       "    <tr>\n",
       "      <th>2</th>\n",
       "      <td>IMG/center_2016_12_01_13_31_12_937.jpg</td>\n",
       "      <td>0.0</td>\n",
       "    </tr>\n",
       "    <tr>\n",
       "      <th>3</th>\n",
       "      <td>IMG/center_2016_12_01_13_31_13_037.jpg</td>\n",
       "      <td>0.0</td>\n",
       "    </tr>\n",
       "    <tr>\n",
       "      <th>4</th>\n",
       "      <td>IMG/center_2016_12_01_13_31_13_177.jpg</td>\n",
       "      <td>0.0</td>\n",
       "    </tr>\n",
       "    <tr>\n",
       "      <th>...</th>\n",
       "      <td>...</td>\n",
       "      <td>...</td>\n",
       "    </tr>\n",
       "    <tr>\n",
       "      <th>24103</th>\n",
       "      <td>IMG/right_2016_12_01_13_46_38_745.jpg</td>\n",
       "      <td>-0.2</td>\n",
       "    </tr>\n",
       "    <tr>\n",
       "      <th>24104</th>\n",
       "      <td>IMG/right_2016_12_01_13_46_38_802.jpg</td>\n",
       "      <td>-0.2</td>\n",
       "    </tr>\n",
       "    <tr>\n",
       "      <th>24105</th>\n",
       "      <td>IMG/right_2016_12_01_13_46_38_846.jpg</td>\n",
       "      <td>-0.2</td>\n",
       "    </tr>\n",
       "    <tr>\n",
       "      <th>24106</th>\n",
       "      <td>IMG/right_2016_12_01_13_46_38_922.jpg</td>\n",
       "      <td>-0.2</td>\n",
       "    </tr>\n",
       "    <tr>\n",
       "      <th>24107</th>\n",
       "      <td>IMG/right_2016_12_01_13_46_38_947.jpg</td>\n",
       "      <td>-0.2</td>\n",
       "    </tr>\n",
       "  </tbody>\n",
       "</table>\n",
       "<p>24108 rows × 2 columns</p>\n",
       "</div>"
      ],
      "text/plain": [
       "                                     filename  steering\n",
       "0      IMG/center_2016_12_01_13_30_48_287.jpg       0.0\n",
       "1      IMG/center_2016_12_01_13_30_48_404.jpg       0.0\n",
       "2      IMG/center_2016_12_01_13_31_12_937.jpg       0.0\n",
       "3      IMG/center_2016_12_01_13_31_13_037.jpg       0.0\n",
       "4      IMG/center_2016_12_01_13_31_13_177.jpg       0.0\n",
       "...                                       ...       ...\n",
       "24103   IMG/right_2016_12_01_13_46_38_745.jpg      -0.2\n",
       "24104   IMG/right_2016_12_01_13_46_38_802.jpg      -0.2\n",
       "24105   IMG/right_2016_12_01_13_46_38_846.jpg      -0.2\n",
       "24106   IMG/right_2016_12_01_13_46_38_922.jpg      -0.2\n",
       "24107   IMG/right_2016_12_01_13_46_38_947.jpg      -0.2\n",
       "\n",
       "[24108 rows x 2 columns]"
      ]
     },
     "execution_count": 536,
     "metadata": {},
     "output_type": "execute_result"
    }
   ],
   "source": [
    "full_df"
   ]
  },
  {
   "cell_type": "code",
   "execution_count": 537,
   "metadata": {},
   "outputs": [],
   "source": [
    "X = full_df['filename'].values\n",
    "y = full_df['steering'].values \n",
    "X_train, X_valid, y_train, y_valid = train_test_split(X, y, test_size=0.1, random_state=32, shuffle=True)"
   ]
  },
  {
   "cell_type": "code",
   "execution_count": 422,
   "metadata": {},
   "outputs": [
    {
     "data": {
      "text/plain": [
       "2411"
      ]
     },
     "execution_count": 422,
     "metadata": {},
     "output_type": "execute_result"
    }
   ],
   "source": [
    "len(X_valid)"
   ]
  },
  {
   "cell_type": "code",
   "execution_count": 391,
   "metadata": {},
   "outputs": [],
   "source": [
    "df = pd.read_csv('./data/driving_log.csv')\n",
    "df['left'] = df['left'].str.lstrip()\n",
    "df['right'] = df['right'].str.lstrip()"
   ]
  },
  {
   "cell_type": "code",
   "execution_count": 411,
   "metadata": {},
   "outputs": [
    {
     "data": {
      "text/html": [
       "<div>\n",
       "<style scoped>\n",
       "    .dataframe tbody tr th:only-of-type {\n",
       "        vertical-align: middle;\n",
       "    }\n",
       "\n",
       "    .dataframe tbody tr th {\n",
       "        vertical-align: top;\n",
       "    }\n",
       "\n",
       "    .dataframe thead th {\n",
       "        text-align: right;\n",
       "    }\n",
       "</style>\n",
       "<table border=\"1\" class=\"dataframe\">\n",
       "  <thead>\n",
       "    <tr style=\"text-align: right;\">\n",
       "      <th></th>\n",
       "      <th>filename</th>\n",
       "      <th>steering</th>\n",
       "    </tr>\n",
       "  </thead>\n",
       "  <tbody>\n",
       "    <tr>\n",
       "      <th>0</th>\n",
       "      <td>IMG/center_2016_12_01_13_30_48_287.jpg</td>\n",
       "      <td>0.0</td>\n",
       "    </tr>\n",
       "    <tr>\n",
       "      <th>1</th>\n",
       "      <td>IMG/center_2016_12_01_13_30_48_404.jpg</td>\n",
       "      <td>0.0</td>\n",
       "    </tr>\n",
       "    <tr>\n",
       "      <th>2</th>\n",
       "      <td>IMG/center_2016_12_01_13_31_12_937.jpg</td>\n",
       "      <td>0.0</td>\n",
       "    </tr>\n",
       "    <tr>\n",
       "      <th>3</th>\n",
       "      <td>IMG/center_2016_12_01_13_31_13_037.jpg</td>\n",
       "      <td>0.0</td>\n",
       "    </tr>\n",
       "    <tr>\n",
       "      <th>4</th>\n",
       "      <td>IMG/center_2016_12_01_13_31_13_177.jpg</td>\n",
       "      <td>0.0</td>\n",
       "    </tr>\n",
       "    <tr>\n",
       "      <th>...</th>\n",
       "      <td>...</td>\n",
       "      <td>...</td>\n",
       "    </tr>\n",
       "    <tr>\n",
       "      <th>24103</th>\n",
       "      <td>IMG/right_2016_12_01_13_46_38_745.jpg</td>\n",
       "      <td>-0.2</td>\n",
       "    </tr>\n",
       "    <tr>\n",
       "      <th>24104</th>\n",
       "      <td>IMG/right_2016_12_01_13_46_38_802.jpg</td>\n",
       "      <td>-0.2</td>\n",
       "    </tr>\n",
       "    <tr>\n",
       "      <th>24105</th>\n",
       "      <td>IMG/right_2016_12_01_13_46_38_846.jpg</td>\n",
       "      <td>-0.2</td>\n",
       "    </tr>\n",
       "    <tr>\n",
       "      <th>24106</th>\n",
       "      <td>IMG/right_2016_12_01_13_46_38_922.jpg</td>\n",
       "      <td>-0.2</td>\n",
       "    </tr>\n",
       "    <tr>\n",
       "      <th>24107</th>\n",
       "      <td>IMG/right_2016_12_01_13_46_38_947.jpg</td>\n",
       "      <td>-0.2</td>\n",
       "    </tr>\n",
       "  </tbody>\n",
       "</table>\n",
       "<p>24108 rows × 2 columns</p>\n",
       "</div>"
      ],
      "text/plain": [
       "                                     filename  steering\n",
       "0      IMG/center_2016_12_01_13_30_48_287.jpg       0.0\n",
       "1      IMG/center_2016_12_01_13_30_48_404.jpg       0.0\n",
       "2      IMG/center_2016_12_01_13_31_12_937.jpg       0.0\n",
       "3      IMG/center_2016_12_01_13_31_13_037.jpg       0.0\n",
       "4      IMG/center_2016_12_01_13_31_13_177.jpg       0.0\n",
       "...                                       ...       ...\n",
       "24103   IMG/right_2016_12_01_13_46_38_745.jpg      -0.2\n",
       "24104   IMG/right_2016_12_01_13_46_38_802.jpg      -0.2\n",
       "24105   IMG/right_2016_12_01_13_46_38_846.jpg      -0.2\n",
       "24106   IMG/right_2016_12_01_13_46_38_922.jpg      -0.2\n",
       "24107   IMG/right_2016_12_01_13_46_38_947.jpg      -0.2\n",
       "\n",
       "[24108 rows x 2 columns]"
      ]
     },
     "execution_count": 411,
     "metadata": {},
     "output_type": "execute_result"
    }
   ],
   "source": [
    "full_df"
   ]
  },
  {
   "cell_type": "code",
   "execution_count": 346,
   "metadata": {},
   "outputs": [],
   "source": [
    "df = pd.read_csv('./data/driving_log.csv')\n",
    "df['left'] = df['left'].str.lstrip()\n",
    "df['right'] = df['right'].str.lstrip()\n",
    "X = df['center'].values\n",
    "y = df['steering'].values \n",
    "X_train, X_valid, y_train, y_valid = train_test_split(X, y, test_size=0.1, random_state=32, shuffle=True)"
   ]
  },
  {
   "cell_type": "code",
   "execution_count": 353,
   "metadata": {},
   "outputs": [],
   "source": [
    "image = cv2.imread('./data/'+X_train[0])"
   ]
  },
  {
   "cell_type": "code",
   "execution_count": 355,
   "metadata": {},
   "outputs": [
    {
     "data": {
      "text/plain": [
       "(160, 320, 3)"
      ]
     },
     "execution_count": 355,
     "metadata": {},
     "output_type": "execute_result"
    }
   ],
   "source": [
    "image.shape"
   ]
  },
  {
   "cell_type": "code",
   "execution_count": 262,
   "metadata": {},
   "outputs": [
    {
     "data": {
      "text/plain": [
       "array([   0,    1,    2, ..., 8033, 8034, 8035])"
      ]
     },
     "execution_count": 262,
     "metadata": {},
     "output_type": "execute_result"
    }
   ],
   "source": [
    "np.arange(len(df))"
   ]
  },
  {
   "cell_type": "code",
   "execution_count": 263,
   "metadata": {},
   "outputs": [
    {
     "data": {
      "text/plain": [
       "8036"
      ]
     },
     "execution_count": 263,
     "metadata": {},
     "output_type": "execute_result"
    }
   ],
   "source": [
    "(len(df))"
   ]
  },
  {
   "cell_type": "code",
   "execution_count": 356,
   "metadata": {},
   "outputs": [],
   "source": [
    "indice = tf.constant([0,], dtype=tf.int32)"
   ]
  },
  {
   "cell_type": "code",
   "execution_count": 357,
   "metadata": {},
   "outputs": [
    {
     "data": {
      "text/plain": [
       "<tf.Tensor: shape=(1,), dtype=int32, numpy=array([0], dtype=int32)>"
      ]
     },
     "execution_count": 357,
     "metadata": {},
     "output_type": "execute_result"
    }
   ],
   "source": [
    "indice"
   ]
  },
  {
   "cell_type": "code",
   "execution_count": 461,
   "metadata": {},
   "outputs": [
    {
     "data": {
      "text/plain": [
       "array([[[153, 153, 106],\n",
       "        [153, 153, 106],\n",
       "        [152, 153, 106],\n",
       "        ...,\n",
       "        [136, 145, 109],\n",
       "        [ 26, 144, 109],\n",
       "        [ 29, 144, 109]],\n",
       "\n",
       "       [[154, 153, 106],\n",
       "        [153, 153, 106],\n",
       "        [153, 153, 106],\n",
       "        ...,\n",
       "        [129, 145, 109],\n",
       "        [ 35, 145, 109],\n",
       "        [ 30, 145, 109]],\n",
       "\n",
       "       [[155, 153, 107],\n",
       "        [155, 153, 107],\n",
       "        [154, 153, 107],\n",
       "        ...,\n",
       "        [135, 145, 110],\n",
       "        [143, 145, 110],\n",
       "        [130, 145, 110]],\n",
       "\n",
       "       ...,\n",
       "\n",
       "       [[127, 115, 138],\n",
       "        [125, 115, 138],\n",
       "        [121, 115, 138],\n",
       "        ...,\n",
       "        [105, 122, 129],\n",
       "        [101, 122, 129],\n",
       "        [ 99, 122, 129]],\n",
       "\n",
       "       [[126, 115, 138],\n",
       "        [124, 115, 138],\n",
       "        [121, 115, 138],\n",
       "        ...,\n",
       "        [118, 122, 129],\n",
       "        [109, 122, 129],\n",
       "        [103, 122, 129]],\n",
       "\n",
       "       [[125, 115, 138],\n",
       "        [124, 115, 138],\n",
       "        [121, 115, 138],\n",
       "        ...,\n",
       "        [127, 122, 129],\n",
       "        [121, 122, 129],\n",
       "        [114, 122, 129]]], dtype=uint8)"
      ]
     },
     "execution_count": 461,
     "metadata": {},
     "output_type": "execute_result"
    }
   ],
   "source": [
    "img = cv2.imread('./data/' + X_train[0])\n",
    "img = cv2.cvtColor(img, cv2.COLOR_BGR2YUV)\n",
    "img"
   ]
  },
  {
   "cell_type": "code",
   "execution_count": 667,
   "metadata": {},
   "outputs": [],
   "source": [
    "def parse_function(filename, steer_angle):\n",
    "    image_string = tf.io.read_file('./data/' + filename)\n",
    "    image = tf.io.decode_jpeg(image_string, channels=3)\n",
    "    return image, steer_angle\n",
    "\n",
    "def train_preprocess(image, steer_angle):\n",
    "    processed_image = image[55:-20]\n",
    "    processed_image = tf.image.resize(processed_image, [66, 200], method='bilinear')\n",
    "    if np.random.rand() < .5: # Randomly perform horizontal flip\n",
    "        processed_image = tf.image.random_flip_left_right(processed_image)\n",
    "        steer_angle = -steer_angle\n",
    "    processed_image = processed_image / 255            \n",
    "    processed_image = tf.image.rgb_to_yuv(processed_image)\n",
    "    processed_image = tf.image.per_image_standardization(processed_image)\n",
    "    return processed_image, steer_angle            "
   ]
  },
  {
   "cell_type": "code",
   "execution_count": 690,
   "metadata": {},
   "outputs": [],
   "source": [
    "def preprocess(image):\n",
    "    processed_image = tf.expand_dims(tf.dtypes.cast(image[55:-20], tf.float32), 0)\n",
    "    processed_image = tf.image.resize(processed_image, [66, 200], method='bilinear')\n",
    "    processed_image = processed_image / 255            \n",
    "    processed_image = tf.image.rgb_to_yuv(processed_image)\n",
    "    processed_image = tf.image.per_image_standardization(processed_image)\n",
    "    return processed_image            "
   ]
  },
  {
   "cell_type": "code",
   "execution_count": 511,
   "metadata": {},
   "outputs": [],
   "source": [
    "# def preprocess(image, to_yuv=True):\n",
    "#     # crop & resize image\n",
    "#     processed_image = image[55:-20]\n",
    "#     processed_image = cv2.resize(processed_image, (200, 66), interpolation = cv2.INTER_AREA) \n",
    "#     # convert to YUV\n",
    "#     if to_yuv:\n",
    "#         processed_image = cv2.cvtColor(processed_image, cv2.COLOR_RGB2YUV)\n",
    "#     return processed_image"
   ]
  },
  {
   "cell_type": "code",
   "execution_count": 296,
   "metadata": {},
   "outputs": [
    {
     "name": "stdout",
     "output_type": "stream",
     "text": [
      "IMG/center_2016_12_01_13_32_51_437.jpg\n",
      "0.01391724\n",
      "steering angle: 0.01391724\n"
     ]
    },
    {
     "data": {
      "image/png": "[encoded data removed]",
      "text/plain": [
       "<Figure size 432x288 with 1 Axes>"
      ]
     },
     "metadata": {
      "needs_background": "light"
     },
     "output_type": "display_data"
    }
   ],
   "source": [
    "# Test preprocess functions\n",
    "\n",
    "# img, target = preprocess(img, target, to_yuv=False)\n",
    "# plt.imshow(img)\n",
    "# print(f'steering angle: {target}')"
   ]
  },
  {
   "cell_type": "code",
   "execution_count": 675,
   "metadata": {},
   "outputs": [],
   "source": [
    "def dataloader(X, y, batch_size=32):\n",
    "    return tf.data.Dataset.from_tensor_slices((X, y)) \\\n",
    "                          .shuffle(len(X))            \\\n",
    "                          .map(parse_function)        \\\n",
    "                          .map(train_preprocess)            \\\n",
    "                          .batch(batch_size)          \\\n",
    "                          .prefetch(1)"
   ]
  },
  {
   "cell_type": "code",
   "execution_count": 676,
   "metadata": {},
   "outputs": [
    {
     "name": "stdout",
     "output_type": "stream",
     "text": [
      "Model: \"sequential_8\"\n",
      "_________________________________________________________________\n",
      "Layer (type)                 Output Shape              Param #   \n",
      "=================================================================\n",
      "conv2d_40 (Conv2D)           (None, 31, 98, 24)        1824      \n",
      "_________________________________________________________________\n",
      "conv2d_41 (Conv2D)           (None, 14, 47, 36)        21636     \n",
      "_________________________________________________________________\n",
      "conv2d_42 (Conv2D)           (None, 5, 22, 48)         43248     \n",
      "_________________________________________________________________\n",
      "conv2d_43 (Conv2D)           (None, 3, 20, 64)         27712     \n",
      "_________________________________________________________________\n",
      "conv2d_44 (Conv2D)           (None, 1, 18, 64)         36928     \n",
      "_________________________________________________________________\n",
      "flatten_8 (Flatten)          (None, 1152)              0         \n",
      "_________________________________________________________________\n",
      "dense_32 (Dense)             (None, 100)               115300    \n",
      "_________________________________________________________________\n",
      "dropout_24 (Dropout)         (None, 100)               0         \n",
      "_________________________________________________________________\n",
      "dense_33 (Dense)             (None, 50)                5050      \n",
      "_________________________________________________________________\n",
      "dropout_25 (Dropout)         (None, 50)                0         \n",
      "_________________________________________________________________\n",
      "dense_34 (Dense)             (None, 10)                510       \n",
      "_________________________________________________________________\n",
      "dropout_26 (Dropout)         (None, 10)                0         \n",
      "_________________________________________________________________\n",
      "dense_35 (Dense)             (None, 1)                 11        \n",
      "=================================================================\n",
      "Total params: 252,219\n",
      "Trainable params: 252,219\n",
      "Non-trainable params: 0\n",
      "_________________________________________________________________\n"
     ]
    }
   ],
   "source": [
    "PilotNet = models.Sequential([\n",
    "            # Three Convolution Layers: 5x5, strides = 2\n",
    "            layers.Conv2D(24, (5, 5), strides=(2,2), activation='relu', input_shape=(66,200,3)),\n",
    "            layers.Conv2D(36, (5, 5), strides=(2,2), activation='relu'),\n",
    "            layers.Conv2D(48, (5, 5), strides=(2,2), activation='relu'),\n",
    "            # Two Convolution Layers: 3x3, strides = 1\n",
    "            layers.Conv2D(64, (3, 3), activation='relu'),\n",
    "            layers.Conv2D(64, (3, 3), activation='relu'),\n",
    "            # Flatten Layer (output=1152)\n",
    "            layers.Flatten(),\n",
    "            # Three Fully-connected Layers with Dropout(0.5)\n",
    "            layers.Dense(100, activation='relu', kernel_regularizer=regularizers.l2(l=0.001)),\n",
    "            layers.Dropout(0.5),\n",
    "            layers.Dense(50, activation='relu', kernel_regularizer=regularizers.l2(l=0.001)),\n",
    "            layers.Dropout(0.5),\n",
    "            layers.Dense(10, activation='relu', kernel_regularizer=regularizers.l2(l=0.001)),\n",
    "            layers.Dropout(0.5),\n",
    "            layers.Dense(1)\n",
    "        ])\n",
    "\n",
    "PilotNet.summary()"
   ]
  },
  {
   "cell_type": "code",
   "execution_count": 670,
   "metadata": {},
   "outputs": [],
   "source": [
    "root_logdir = os.path.join(os.curdir, 'my_logs')\n",
    "\n",
    "def get_run_logdir():\n",
    "    import time\n",
    "    run_id = time.strftime(\"run_%Y_%m_%d-%H_%M_%S\")\n",
    "    return os.path.join(root_logdir, run_id)\n",
    "\n",
    "run_logdir = get_run_logdir()"
   ]
  },
  {
   "cell_type": "code",
   "execution_count": 677,
   "metadata": {},
   "outputs": [],
   "source": [
    "train_dataloader = dataloader(X_train, y_train)\n",
    "valid_dataloader = dataloader(X_valid, y_valid)\n",
    "\n",
    "optim = tf.keras.optimizers.Adam(learning_rate=0.0001)\n",
    "early_stopping_cb = tf.keras.callbacks.EarlyStopping(patience=20, restore_best_weights=True)\n",
    "tensorboard_cb = tf.keras.callbacks.TensorBoard(run_logdir)\n",
    "PilotNet.compile(loss=\"mean_squared_error\", optimizer=optim, metrics=[\"mse\"])"
   ]
  },
  {
   "cell_type": "code",
   "execution_count": 739,
   "metadata": {},
   "outputs": [
    {
     "name": "stdout",
     "output_type": "stream",
     "text": [
      "Train for 679 steps, validate for 76 steps\n",
      "Epoch 1/20\n",
      "679/679 [==============================] - 17s 26ms/step - loss: 0.0130 - mse: 0.0122 - val_loss: 0.0118 - val_mse: 0.0110\n",
      "Epoch 2/20\n",
      "679/679 [==============================] - 17s 26ms/step - loss: 0.0135 - mse: 0.0127 - val_loss: 0.0122 - val_mse: 0.0113\n",
      "Epoch 3/20\n",
      "679/679 [==============================] - 17s 26ms/step - loss: 0.0131 - mse: 0.0122 - val_loss: 0.0111 - val_mse: 0.0102\n",
      "Epoch 4/20\n",
      "679/679 [==============================] - 17s 26ms/step - loss: 0.0133 - mse: 0.0124 - val_loss: 0.0120 - val_mse: 0.0110\n",
      "Epoch 5/20\n",
      "679/679 [==============================] - 17s 26ms/step - loss: 0.0129 - mse: 0.0121 - val_loss: 0.0125 - val_mse: 0.0116\n",
      "Epoch 6/20\n",
      "679/679 [==============================] - 17s 26ms/step - loss: 0.0130 - mse: 0.0121 - val_loss: 0.0117 - val_mse: 0.0109\n",
      "Epoch 7/20\n",
      "679/679 [==============================] - 17s 26ms/step - loss: 0.0129 - mse: 0.0121 - val_loss: 0.0115 - val_mse: 0.0107\n",
      "Epoch 8/20\n",
      "679/679 [==============================] - 18s 26ms/step - loss: 0.0131 - mse: 0.0123 - val_loss: 0.0109 - val_mse: 0.0102\n",
      "Epoch 9/20\n",
      "679/679 [==============================] - 18s 26ms/step - loss: 0.0130 - mse: 0.0122 - val_loss: 0.0113 - val_mse: 0.0105\n",
      "Epoch 10/20\n",
      "679/679 [==============================] - 18s 26ms/step - loss: 0.0128 - mse: 0.0120 - val_loss: 0.0121 - val_mse: 0.0113\n",
      "Epoch 11/20\n",
      "679/679 [==============================] - 18s 26ms/step - loss: 0.0127 - mse: 0.0119 - val_loss: 0.0108 - val_mse: 0.0100\n",
      "Epoch 12/20\n",
      "679/679 [==============================] - 18s 26ms/step - loss: 0.0131 - mse: 0.0123 - val_loss: 0.0119 - val_mse: 0.0109\n",
      "Epoch 13/20\n",
      "679/679 [==============================] - 17s 26ms/step - loss: 0.0130 - mse: 0.0122 - val_loss: 0.0112 - val_mse: 0.0103\n",
      "Epoch 14/20\n",
      "679/679 [==============================] - 19s 28ms/step - loss: 0.0135 - mse: 0.0124 - val_loss: 0.0122 - val_mse: 0.0114\n",
      "Epoch 15/20\n",
      "679/679 [==============================] - 19s 28ms/step - loss: 0.0128 - mse: 0.0120 - val_loss: 0.0122 - val_mse: 0.0114\n",
      "Epoch 16/20\n",
      "679/679 [==============================] - 18s 26ms/step - loss: 0.0128 - mse: 0.0120 - val_loss: 0.0117 - val_mse: 0.0109\n",
      "Epoch 17/20\n",
      "679/679 [==============================] - 18s 26ms/step - loss: 0.0128 - mse: 0.0120 - val_loss: 0.0112 - val_mse: 0.0104\n",
      "Epoch 18/20\n",
      "679/679 [==============================] - 18s 26ms/step - loss: 0.0129 - mse: 0.0120 - val_loss: 0.0114 - val_mse: 0.0106\n",
      "Epoch 19/20\n",
      "679/679 [==============================] - 18s 26ms/step - loss: 0.0127 - mse: 0.0119 - val_loss: 0.0114 - val_mse: 0.0106\n",
      "Epoch 20/20\n",
      "679/679 [==============================] - 18s 26ms/step - loss: 0.0129 - mse: 0.0121 - val_loss: 0.0126 - val_mse: 0.0116\n"
     ]
    }
   ],
   "source": [
    "history = PilotNet.fit(train_dataloader, epochs=20, validation_data=valid_dataloader, callbacks=[tensorboard_cb, early_stopping_cb])"
   ]
  },
  {
   "cell_type": "code",
   "execution_count": 732,
   "metadata": {},
   "outputs": [],
   "source": [
    "PilotNet.save(\"PilotNet5_loss_0_0128_mse_0_0120.h5\")"
   ]
  },
  {
   "cell_type": "code",
   "execution_count": 740,
   "metadata": {},
   "outputs": [
    {
     "name": "stdout",
     "output_type": "stream",
     "text": [
      "76/76 [==============================] - 2s 23ms/step - loss: 0.0123 - mse: 0.0116\n"
     ]
    },
    {
     "data": {
      "text/plain": [
       "[0.012312164376979988, 0.011586322]"
      ]
     },
     "execution_count": 740,
     "metadata": {},
     "output_type": "execute_result"
    }
   ],
   "source": [
    "PilotNet.evaluate(valid_dataloader)"
   ]
  },
  {
   "cell_type": "code",
   "execution_count": 746,
   "metadata": {},
   "outputs": [
    {
     "name": "stdout",
     "output_type": "stream",
     "text": [
      "predict: 0.1807727813720703 | target: 0.3861508\n"
     ]
    },
    {
     "data": {
      "image/png": "[encoded data removed]",
      "text/plain": [
       "<Figure size 432x288 with 1 Axes>"
      ]
     },
     "metadata": {
      "needs_background": "light"
     },
     "output_type": "display_data"
    }
   ],
   "source": [
    "idx = np.random.randint(0, len(X_valid), 1)[0]\n",
    "img = cv2.imread('./data/' + X_valid[idx])\n",
    "img = cv2.cvtColor(img, cv2.COLOR_BGR2RGB)\n",
    "plt.imshow(img)\n",
    "pred = PilotNet.predict(preprocess(img), batch_size=1)\n",
    "target = y_valid[idx]\n",
    "print(f'predict: {float(pred)} | target: {target}')"
   ]
  },
  {
   "cell_type": "code",
   "execution_count": 723,
   "metadata": {},
   "outputs": [
    {
     "data": {
      "text/plain": [
       "55"
      ]
     },
     "execution_count": 723,
     "metadata": {},
     "output_type": "execute_result"
    }
   ],
   "source": [
    "np.random.randint(0, len(X_valid), 1)[0]\n"
   ]
  },
  {
   "cell_type": "code",
   "execution_count": 738,
   "metadata": {},
   "outputs": [],
   "source": [
    "optim = tf.keras.optimizers.Adam(learning_rate=0.00003)"
   ]
  },
  {
   "cell_type": "code",
   "execution_count": null,
   "metadata": {},
   "outputs": [],
   "source": [
    "new_model = tf.keras.models.load_model('saved_model/my_model')"
   ]
  }
 ],
 "metadata": {
  "kernelspec": {
   "display_name": "Python 3",
   "language": "python",
   "name": "python3"
  },
  "language_info": {
   "codemirror_mode": {
    "name": "ipython",
    "version": 3
   },
   "file_extension": ".py",
   "mimetype": "text/x-python",
   "name": "python",
   "nbconvert_exporter": "python",
   "pygments_lexer": "ipython3",
   "version": "3.6.8"
  }
 },
 "nbformat": 4,
 "nbformat_minor": 2
}
